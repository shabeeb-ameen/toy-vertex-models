{
 "cells": [
  {
   "cell_type": "code",
   "execution_count": 1,
   "metadata": {},
   "outputs": [
    {
     "data": {
      "image/png": "[encoded data removed]",
      "text/plain": [
       "<Figure size 432x288 with 1 Axes>"
      ]
     },
     "metadata": {
      "needs_background": "light"
     },
     "output_type": "display_data"
    }
   ],
   "source": [
    "import numpy as np\n",
    "import scipy.spatial\n",
    "import copy\n",
    "import matplotlib.pyplot as plt\n",
    "import pylab as pl\n",
    "from matplotlib import collections  as mc\n",
    "from classes import Vertex, Edge, Polygon\n",
    "from functions import *\n",
    "\n",
    "from init_2D import edge_assignments, polygon_assignments\n",
    "\n",
    "\n",
    "\n"
   ]
  },
  {
   "cell_type": "code",
   "execution_count": 2,
   "metadata": {},
   "outputs": [
    {
     "name": "stdout",
     "output_type": "stream",
     "text": [
      "2.5980762113533156\n"
     ]
    }
   ],
   "source": [
    "cos_30=3**(1/2)/2\n",
    "l=1\n",
    "p=[[l/2,0],[l,l*cos_30],[l/2,2*l*cos_30]]\n",
    "q=[[2*l,l*cos_30],[5*l/2,0]]\n",
    "\n",
    "Polygon.a_0=np.mean([poly.area() for poly in polygon_assignments(p,q)])\n",
    "Polygon.p_0=2\n",
    "Polygon.k_a=10000\n",
    "\n",
    "print(Polygon.a_0)\n"
   ]
  },
  {
   "cell_type": "code",
   "execution_count": 3,
   "metadata": {},
   "outputs": [],
   "source": [
    "\n",
    "\n",
    "def vertex_monte_carlo(l,p,q,epsilon,trials,state=None):\n",
    "    n=0\n",
    "    pf,qf=gen_rnd_2D(l,p,q,epsilon,state)\n",
    "   \n",
    "    energy=np.sum([p.energy() for p in polygon_assignments(pf,qf,state)])\n",
    "    while n<trials:\n",
    "        pt,qt=gen_rnd_2D(l,p,q,epsilon,state)\n",
    "        \n",
    "        \n",
    "        energy_t=np.sum([p.energy() for p in polygon_assignments(pt,qt,state)])\n",
    "        if energy_t<energy:\n",
    "            pf=copy.deepcopy(pt)\n",
    "            qf=copy.deepcopy(qt)\n",
    "            \n",
    "            energy=energy_t\n",
    "        n+=1\n",
    "    \n",
    "    return pf,qf,energy"
   ]
  },
  {
   "cell_type": "code",
   "execution_count": null,
   "metadata": {},
   "outputs": [],
   "source": []
  },
  {
   "cell_type": "markdown",
   "metadata": {},
   "source": [
    "How the randomized evolution process works:\n",
    "\n",
    "(i) Start with the initial configuration of generator poitns.\n",
    "(ii) Pick a new, smaller value for the driven edge instance, by pickeing a lower value for the p_0 generator's x value \n",
    "(iii) add random values to all the other generators. To preserve the symmetry assumption, you should only do this in a certain way. For example, q3 should always have y=0. And as the edge is shrinking, the p_0 y value shoudl also be 0. (and after shrinking, the p_0 corodinates must maintain x=0)\n",
    "\n",
    "---\n",
    "\n",
    "This randomizer needs a string input on whether to change to x- or y- value of p0."
   ]
  },
  {
   "cell_type": "code",
   "execution_count": 8,
   "metadata": {},
   "outputs": [],
   "source": [
    "cos_30=3**(1/2)/2\n",
    "l=1\n",
    "array,epsilon=np.linspace(l,0,10001,retstep=True)\n",
    "\n",
    "\n",
    "\n",
    "fig=plt.figure()\n",
    "for p_0 in np.linspace(2.4,3.8,8):\n",
    "    Polygon.p_0=p_0\n",
    "    x=[]\n",
    "    energy=[]\n",
    "\n",
    "    p=[[l/2,0],[l,l*cos_30],[l/2,2*l*cos_30]]\n",
    "    q=[[2*l,l*cos_30],[5*l/2,0]]\n",
    "    #counter=0\n",
    "    for length in array:\n",
    "        pf,qf,e=vertex_monte_carlo(length,p,q,epsilon,10,None)\n",
    "        #print(\"Energy=\",e)\n",
    "        energy.append(e)\n",
    "        x.append(-length)\n",
    "        p=copy.deepcopy(pf)\n",
    "        q=copy.deepcopy(qf)\n",
    "        \n",
    "        #counter+=1\n",
    "        #if counter%10==0:\n",
    "        #    print(length)\n",
    "        #    #print(p,q)\n",
    "        #    print(\"Energy=\",e)\n",
    "        #    plotter_2D(np.concatenate(edge_assignments(p,q),axis=0))\n",
    "        #    plt.show()\n",
    "    \n",
    "    #counter=0\n",
    "    for length in reversed(array):\n",
    "        pf,qf,e=vertex_monte_carlo(length,p,q,epsilon,10,\"post\")\n",
    "    #print(\"Energy=\",e)\n",
    "        energy.append(e)\n",
    "        x.append(length)\n",
    "        p=copy.deepcopy(pf)\n",
    "        q=copy.deepcopy(qf)\n",
    "    #    counter+=1\n",
    "    #    if counter%10==0:\n",
    "    #        print(length)\n",
    "    #        print(p,q)\n",
    "    #        print(\"Energy=\",e)\n",
    "    #        plotter_2D(np.concatenate(edge_assignments(p,q,\"post\"),axis=0))\n",
    "    #        plt.show()\n",
    "    plt.plot(x,np.subtract(energy,np.full(len(energy),energy[0])),label=round(p_0,2) )\n",
    "\n",
    "plt.legend()\n",
    "plt.xlabel(\"l\")\n",
    "plt.ylabel(\"E-E_0\")\n",
    "#plt.show()\n",
    "plt.savefig(\"Figures/2D/transition_2D.png\",dpi=1080,bbox_inches=\"tight\",transparent=False)\n",
    "plt.close(fig)"
   ]
  },
  {
   "cell_type": "code",
   "execution_count": null,
   "metadata": {},
   "outputs": [],
   "source": [
    "counter=0\n",
    "for length in reversed(array):\n",
    "    pf,qf,e=vertex_monte_carlo(length,p,q,epsilon,\"post\",100)\n",
    "    #print(\"Energy=\",e)\n",
    "    energy.append(e)\n",
    "    x.append(length)\n",
    "    p=copy.deepcopy(pf)\n",
    "    q=copy.deepcopy(qf)\n",
    "    counter+=1\n",
    "    if counter%10==0:\n",
    "        print(length)\n",
    "        #print(p,q)\n",
    "        print(\"Energy=\",e)\n",
    "        plotter_2D(np.concatenate(edge_assignments(p,q,\"post\"),axis=0))"
   ]
  },
  {
   "cell_type": "code",
   "execution_count": 14,
   "metadata": {},
   "outputs": [
    {
     "data": {
      "text/plain": [
       "array([2.3, 2.5, 2.7, 2.9, 3.1, 3.3, 3.5, 3.7])"
      ]
     },
     "execution_count": 14,
     "metadata": {},
     "output_type": "execute_result"
    }
   ],
   "source": [
    "np.linspace(2.3,3.7,8)"
   ]
  },
  {
   "cell_type": "code",
   "execution_count": null,
   "metadata": {},
   "outputs": [],
   "source": []
  }
 ],
 "metadata": {
  "interpreter": {
   "hash": "1ce0378d881bf9fd6e6d4a10ac17184d5ff67cff1142a03876b065e8c03a972a"
  },
  "kernelspec": {
   "display_name": "Python 3.10.4 64-bit (windows store)",
   "language": "python",
   "name": "python3"
  },
  "language_info": {
   "codemirror_mode": {
    "name": "ipython",
    "version": 3
   },
   "file_extension": ".py",
   "mimetype": "text/x-python",
   "name": "python",
   "nbconvert_exporter": "python",
   "pygments_lexer": "ipython3",
   "version": "3.10.4"
  },
  "orig_nbformat": 4
 },
 "nbformat": 4,
 "nbformat_minor": 2
}
