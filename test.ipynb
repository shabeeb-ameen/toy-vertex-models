{
 "cells": [
  {
   "cell_type": "code",
   "execution_count": 1,
   "metadata": {},
   "outputs": [],
   "source": [
    "import numpy as np\n",
    "import scipy.spatial\n",
    "import copy\n",
    "import matplotlib.pyplot as plt\n",
    "import pylab as pl\n",
    "from matplotlib import collections  as mc\n",
    "from classes import Vertex, Edge, Polygon, Polyhedron\n",
    "from functions import *\n",
    "from initial_configuration import verts"
   ]
  },
  {
   "cell_type": "code",
   "execution_count": 8,
   "metadata": {},
   "outputs": [
    {
     "name": "stdout",
     "output_type": "stream",
     "text": [
      "[0, 0, 0]\n",
      "[0, 0, 10]\n",
      "[0, 10, 0]\n",
      "[0, 10, 10]\n",
      "[10, 0, 0]\n",
      "[10, 0, 10]\n",
      "[10, 10, 0]\n",
      "[10, 10, 10]\n"
     ]
    }
   ],
   "source": [
    "verts=[]\n",
    "cube=[0,10]\n",
    "for i in cube:\n",
    "    for j in cube:\n",
    "        for k in cube:\n",
    "            verts.append(Vertex([i,j,k]))\n",
    "\n",
    "for v in verts:\n",
    "    print(v.coordinates)"
   ]
  },
  {
   "cell_type": "code",
   "execution_count": 9,
   "metadata": {},
   "outputs": [
    {
     "name": "stdout",
     "output_type": "stream",
     "text": [
      "100.0\n",
      "100.0\n",
      "100.0\n",
      "100.0\n",
      "100.0\n",
      "100.0\n"
     ]
    }
   ],
   "source": [
    "p0_edges=[Edge(verts[0],verts[1]),Edge(verts[0],verts[2]),Edge(verts[1],verts[3]),Edge(verts[3],verts[2])]\n",
    "p0=Polygon(p0_edges)\n",
    "\n",
    "p1_edges=[Edge(verts[0],verts[4]),Edge(verts[4],verts[5]),Edge(verts[1],verts[5]),Edge(verts[0],verts[1])]\n",
    "p1=Polygon(p1_edges)\n",
    "\n",
    "p2_edges=[Edge(verts[0],verts[4]),Edge(verts[0],verts[2]),Edge(verts[4],verts[6]),Edge(verts[2],verts[6])]\n",
    "p2=Polygon(p2_edges)\n",
    "\n",
    "p3_edges=[Edge(verts[4],verts[5]),Edge(verts[4],verts[6]),Edge(verts[5],verts[7]),Edge(verts[6],verts[7])]\n",
    "p3=Polygon(p3_edges)\n",
    "\n",
    "p4_edges=[Edge(verts[1],verts[5]),Edge(verts[5],verts[7]),Edge(verts[3],verts[7]),Edge(verts[1],verts[3])]\n",
    "p4=Polygon(p4_edges)\n",
    "\n",
    "p5_edges=[Edge(verts[2],verts[6]),Edge(verts[6],verts[7]),Edge(verts[3],verts[7]),Edge(verts[2],verts[3])]\n",
    "p5=Polygon(p5_edges)\n",
    "print (p0.area())\n",
    "print (p1.area())\n",
    "print (p2.area())\n",
    "print (p3.area())\n",
    "print (p4.area())\n",
    "print (p5.area())"
   ]
  },
  {
   "cell_type": "code",
   "execution_count": 10,
   "metadata": {},
   "outputs": [
    {
     "name": "stdout",
     "output_type": "stream",
     "text": [
      "1000.0000000000009\n"
     ]
    }
   ],
   "source": [
    "pol=Polyhedron([p0,p1,p2,p3,p4,p5])\n",
    "\n",
    "print(pol.volume())"
   ]
  },
  {
   "cell_type": "code",
   "execution_count": null,
   "metadata": {},
   "outputs": [],
   "source": []
  }
 ],
 "metadata": {
  "interpreter": {
   "hash": "1ce0378d881bf9fd6e6d4a10ac17184d5ff67cff1142a03876b065e8c03a972a"
  },
  "kernelspec": {
   "display_name": "Python 3.10.4 64-bit (windows store)",
   "language": "python",
   "name": "python3"
  },
  "language_info": {
   "codemirror_mode": {
    "name": "ipython",
    "version": 3
   },
   "file_extension": ".py",
   "mimetype": "text/x-python",
   "name": "python",
   "nbconvert_exporter": "python",
   "pygments_lexer": "ipython3",
   "version": "3.10.4"
  },
  "orig_nbformat": 4
 },
 "nbformat": 4,
 "nbformat_minor": 2
}
